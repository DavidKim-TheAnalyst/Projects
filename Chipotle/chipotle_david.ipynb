{
 "cells": [
  {
   "cell_type": "markdown",
   "metadata": {},
   "source": [
    "# Chipotle Sales Analysis"
   ]
  },
  {
   "cell_type": "markdown",
   "metadata": {},
   "source": [
    "1. Dataset Check\n",
    "    - Importing dataset\n",
    "    - Checking rows and columns\n",
    "    - Checking statistical info per columns\n",
    "\n",
    "2. Visualization\n",
    "    - What is the most ordered menu?\n",
    "    - Number of total order per menu.\n",
    "\n",
    "3. Data Cleaning\n",
    "\n",
    "4. Data Analysis\n",
    "    - What is the average dollar spent per order?\n",
    "    - What are prices per menu?\n",
    "    - What is the most expensive order and how many items were sold in that order?\n",
    "    - Is 'Veggie Salad Bowl' selling enough to be kept on the menu?\n",
    "    - How many times did customer order more than one 'Chicken Bowl'?"
   ]
  },
  {
   "cell_type": "code",
   "execution_count": 1,
   "metadata": {},
   "outputs": [],
   "source": [
    "import pandas as pd\n",
    "import numpy as np\n",
    "import matplotlib.pyplot as plt\n"
   ]
  },
  {
   "cell_type": "code",
   "execution_count": 5,
   "metadata": {},
   "outputs": [
    {
     "data": {
      "text/plain": [
       "'c:\\\\Users\\\\davki\\\\Data Study\\\\Chipotle'"
      ]
     },
     "execution_count": 5,
     "metadata": {},
     "output_type": "execute_result"
    }
   ],
   "source": [
    "import os\n",
    "os.getcwd()"
   ]
  },
  {
   "cell_type": "markdown",
   "metadata": {},
   "source": [
    "#### 1. Dataset Check"
   ]
  },
  {
   "cell_type": "code",
   "execution_count": 4,
   "metadata": {},
   "outputs": [],
   "source": [
    "# Importing chipotle.csv file\n",
    "chipotle = pd.read_csv('chipotle.tsv', sep = '\\t')"
   ]
  },
  {
   "cell_type": "code",
   "execution_count": 13,
   "metadata": {},
   "outputs": [
    {
     "name": "stdout",
     "output_type": "stream",
     "text": [
      "<class 'pandas.core.frame.DataFrame'>\n",
      "RangeIndex: 4622 entries, 0 to 4621\n",
      "Data columns (total 5 columns):\n",
      " #   Column              Non-Null Count  Dtype \n",
      "---  ------              --------------  ----- \n",
      " 0   order_id            4622 non-null   int64 \n",
      " 1   quantity            4622 non-null   int64 \n",
      " 2   item_name           4622 non-null   object\n",
      " 3   choice_description  3376 non-null   object\n",
      " 4   item_price          4622 non-null   object\n",
      "dtypes: int64(2), object(3)\n",
      "memory usage: 180.7+ KB\n",
      "None\n",
      "----------------------------------------------\n",
      "          order_id     quantity\n",
      "count  4622.000000  4622.000000\n",
      "mean    927.254868     1.075725\n",
      "std     528.890796     0.410186\n",
      "min       1.000000     1.000000\n",
      "25%     477.250000     1.000000\n",
      "50%     926.000000     1.000000\n",
      "75%    1393.000000     1.000000\n",
      "max    1834.000000    15.000000\n",
      "----------------------------------------------\n",
      "order_id                 0\n",
      "quantity                 0\n",
      "item_name                0\n",
      "choice_description    1246\n",
      "item_price               0\n",
      "dtype: int64\n",
      "----------------------------------------------\n"
     ]
    }
   ],
   "source": [
    "print(chipotle.info())\n",
    "print('----------------------------------------------')\n",
    "print(chipotle.describe())\n",
    "print('----------------------------------------------')\n",
    "print(chipotle.isnull().sum())\n",
    "print('----------------------------------------------')\n",
    "chipotle['order_id'] = chipotle['order_id'].astype(str)"
   ]
  },
  {
   "cell_type": "markdown",
   "metadata": {},
   "source": [
    "#### 2. Visualization"
   ]
  },
  {
   "cell_type": "code",
   "execution_count": 14,
   "metadata": {},
   "outputs": [
    {
     "name": "stdout",
     "output_type": "stream",
     "text": [
      "there are  50  items in the dataset\n"
     ]
    }
   ],
   "source": [
    "# How many items are in the dataset?\n",
    "print('there are ', len(chipotle.item_name.unique()),' items in the dataset')"
   ]
  },
  {
   "cell_type": "code",
   "execution_count": 15,
   "metadata": {},
   "outputs": [
    {
     "name": "stdout",
     "output_type": "stream",
     "text": [
      "TOP  1 :  761 Chicken Bowl\n",
      "TOP  2 :  591 Chicken Burrito\n",
      "TOP  3 :  506 Chips and Guacamole\n",
      "TOP  4 :  386 Steak Burrito\n",
      "TOP  5 :  351 Canned Soft Drink\n",
      "TOP  6 :  230 Chips\n",
      "TOP  7 :  221 Steak Bowl\n",
      "TOP  8 :  211 Bottled Water\n",
      "TOP  9 :  130 Chips and Fresh Tomato Salsa\n",
      "TOP  10 :  126 Canned Soda\n"
     ]
    }
   ],
   "source": [
    "# Top 10 the most sold items\n",
    "item_top10 = chipotle.groupby('item_name')['quantity'].sum().sort_values(ascending=False)[:10]\n",
    "for i, (val,cnt) in enumerate(item_top10.items(),1):\n",
    "    print('TOP ',i,\": \",cnt,val)"
   ]
  },
  {
   "cell_type": "code",
   "execution_count": 16,
   "metadata": {},
   "outputs": [
    {
     "name": "stdout",
     "output_type": "stream",
     "text": [
      "item_name\n",
      "6 Pack Soft Drink                         54\n",
      "Barbacoa Bowl                             66\n",
      "Barbacoa Burrito                          91\n",
      "Barbacoa Crispy Tacos                     11\n",
      "Barbacoa Salad Bowl                       10\n",
      "Barbacoa Soft Tacos                       25\n",
      "Bottled Water                            162\n",
      "Bowl                                       2\n",
      "Burrito                                    6\n",
      "Canned Soda                              104\n",
      "Canned Soft Drink                        301\n",
      "Carnitas Bowl                             68\n",
      "Carnitas Burrito                          59\n",
      "Carnitas Crispy Tacos                      7\n",
      "Carnitas Salad                             1\n",
      "Carnitas Salad Bowl                        6\n",
      "Carnitas Soft Tacos                       40\n",
      "Chicken Bowl                             726\n",
      "Chicken Burrito                          553\n",
      "Chicken Crispy Tacos                      47\n",
      "Chicken Salad                              9\n",
      "Chicken Salad Bowl                       110\n",
      "Chicken Soft Tacos                       115\n",
      "Chips                                    211\n",
      "Chips and Fresh Tomato Salsa             110\n",
      "Chips and Guacamole                      479\n",
      "Chips and Mild Fresh Tomato Salsa          1\n",
      "Chips and Roasted Chili Corn Salsa        22\n",
      "Chips and Roasted Chili-Corn Salsa        18\n",
      "Chips and Tomatillo Green Chili Salsa     43\n",
      "Chips and Tomatillo Red Chili Salsa       48\n",
      "Chips and Tomatillo-Green Chili Salsa     31\n",
      "Chips and Tomatillo-Red Chili Salsa       20\n",
      "Crispy Tacos                               2\n",
      "Izze                                      20\n",
      "Nantucket Nectar                          27\n",
      "Salad                                      2\n",
      "Side of Chips                            101\n",
      "Steak Bowl                               211\n",
      "Steak Burrito                            368\n",
      "Steak Crispy Tacos                        35\n",
      "Steak Salad                                4\n",
      "Steak Salad Bowl                          29\n",
      "Steak Soft Tacos                          55\n",
      "Veggie Bowl                               85\n",
      "Veggie Burrito                            95\n",
      "Veggie Crispy Tacos                        1\n",
      "Veggie Salad                               6\n",
      "Veggie Salad Bowl                         18\n",
      "Veggie Soft Tacos                          7\n",
      "Name: order_id, dtype: int64\n"
     ]
    }
   ],
   "source": [
    "# Number of orders per items (Top 10)\n",
    "order_number = chipotle.groupby('item_name')['order_id'].count()\n",
    "print(order_number)"
   ]
  },
  {
   "cell_type": "code",
   "execution_count": 17,
   "metadata": {},
   "outputs": [
    {
     "data": {
      "image/png": "[encoded data removed]",
      "text/plain": [
       "<Figure size 640x480 with 1 Axes>"
      ]
     },
     "metadata": {},
     "output_type": "display_data"
    }
   ],
   "source": [
    "# Visualization of total order\n",
    "x_1 = order_number.values\n",
    "y_1 = order_number.values.tolist()\n",
    "plt.bar(np.arange(len(x_1.tolist())),y_1, align= 'center')\n",
    "plt.ylabel('Number of orders by item')\n",
    "plt.title ('Distirbution of all item ordered')\n",
    "plt.show()"
   ]
  },
  {
   "cell_type": "markdown",
   "metadata": {},
   "source": [
    "#### 3. Data Cleaning"
   ]
  },
  {
   "cell_type": "code",
   "execution_count": 18,
   "metadata": {},
   "outputs": [],
   "source": [
    "# Removing $ sign in item_price column\n",
    "chipotle['item_price'] = chipotle['item_price'].apply( lambda x: float(x[1:]))"
   ]
  },
  {
   "cell_type": "code",
   "execution_count": 19,
   "metadata": {},
   "outputs": [
    {
     "name": "stdout",
     "output_type": "stream",
     "text": [
      "<class 'pandas.core.frame.DataFrame'>\n",
      "RangeIndex: 4622 entries, 0 to 4621\n",
      "Data columns (total 5 columns):\n",
      " #   Column              Non-Null Count  Dtype  \n",
      "---  ------              --------------  -----  \n",
      " 0   order_id            4622 non-null   object \n",
      " 1   quantity            4622 non-null   int64  \n",
      " 2   item_name           4622 non-null   object \n",
      " 3   choice_description  3376 non-null   object \n",
      " 4   item_price          4622 non-null   float64\n",
      "dtypes: float64(1), int64(1), object(3)\n",
      "memory usage: 180.7+ KB\n",
      "None\n",
      "----------------------------------------------\n",
      "          quantity   item_price\n",
      "count  4622.000000  4622.000000\n",
      "mean      1.075725     7.464336\n",
      "std       0.410186     4.245557\n",
      "min       1.000000     1.090000\n",
      "25%       1.000000     3.390000\n",
      "50%       1.000000     8.750000\n",
      "75%       1.000000     9.250000\n",
      "max      15.000000    44.250000\n"
     ]
    }
   ],
   "source": [
    "print(chipotle.info())\n",
    "print('----------------------------------------------')\n",
    "print(chipotle.describe())"
   ]
  },
  {
   "cell_type": "markdown",
   "metadata": {},
   "source": [
    "#### 4. Data Analysis"
   ]
  },
  {
   "cell_type": "code",
   "execution_count": 28,
   "metadata": {},
   "outputs": [
    {
     "name": "stdout",
     "output_type": "stream",
     "text": [
      "Average dollar spent per order is $ 18.81\n"
     ]
    }
   ],
   "source": [
    "# What is the average dollar spent per order?\n",
    "average_dollar = chipotle.groupby('order_id')['item_price'].sum().mean()\n",
    "print('Average dollar spent per order is $',round(average_dollar,2))"
   ]
  },
  {
   "cell_type": "code",
   "execution_count": 48,
   "metadata": {},
   "outputs": [
    {
     "name": "stdout",
     "output_type": "stream",
     "text": [
      "item_name\n",
      "Barbacoa Bowl             9.25\n",
      "Barbacoa Burrito          9.25\n",
      "Barbacoa Crispy Tacos     9.25\n",
      "Barbacoa Salad Bowl       9.39\n",
      "Barbacoa Soft Tacos       9.25\n",
      "Bowl                      7.40\n",
      "Burrito                   7.40\n",
      "Carnitas Bowl             9.25\n",
      "Carnitas Burrito          9.25\n",
      "Carnitas Crispy Tacos     8.99\n",
      "Carnitas Salad            8.99\n",
      "Carnitas Salad Bowl      11.89\n",
      "Carnitas Soft Tacos       9.25\n",
      "Chicken Bowl              8.75\n",
      "Chicken Burrito           8.75\n",
      "Chicken Crispy Tacos      8.75\n",
      "Chicken Salad             8.49\n",
      "Chicken Salad Bowl        8.75\n",
      "Chicken Soft Tacos        8.75\n",
      "Crispy Tacos              7.40\n",
      "Salad                     7.40\n",
      "Steak Bowl               11.75\n",
      "Steak Burrito             8.99\n",
      "Steak Crispy Tacos        9.25\n",
      "Steak Salad               8.99\n",
      "Steak Salad Bowl         11.89\n",
      "Steak Soft Tacos          9.25\n",
      "Veggie Bowl              11.25\n",
      "Veggie Burrito            8.49\n",
      "Veggie Crispy Tacos       8.49\n",
      "Veggie Salad              8.49\n",
      "Veggie Salad Bowl        11.25\n",
      "Veggie Soft Tacos         8.49\n",
      "Name: item_price, dtype: float64\n"
     ]
    }
   ],
   "source": [
    "# What are prices per menu?\n",
    "price_per_menu = chipotle.groupby('item_name')['item_price'].agg(lambda x: x.mode().iloc[0])\n",
    "filtered_menu = price_per_menu[\n",
    "    price_per_menu.index.str.contains('Bowl|Burrito|Taco|Tacos|Salad', case=False)\n",
    "    ]\n",
    "\n",
    "print(filtered_menu)\n"
   ]
  },
  {
   "cell_type": "code",
   "execution_count": 63,
   "metadata": {},
   "outputs": [
    {
     "name": "stdout",
     "output_type": "stream",
     "text": [
      "          quantity  item_price\n",
      "order_id                      \n",
      "926             23      205.25\n",
      "1443            35      160.74\n",
      "1483            14      139.00\n",
      "691             11      118.25\n",
      "1786            20      114.30\n"
     ]
    }
   ],
   "source": [
    "# What is the most expensive order and how many items were sold in that order?\n",
    "most_expensive_order = chipotle.groupby('order_id').sum().sort_values(by='item_price', ascending=False)\n",
    "print(most_expensive_order[['quantity', 'item_price']].head(5))\n"
   ]
  },
  {
   "cell_type": "code",
   "execution_count": 70,
   "metadata": {},
   "outputs": [
    {
     "name": "stdout",
     "output_type": "stream",
     "text": [
      "There were a total of  33  orders  that included two or more servings of the Chicken Bowl menu item.\n"
     ]
    }
   ],
   "source": [
    "# How many times did customer order more than one 'Chicken Bowl'?\n",
    "chicken_bowl = chipotle[chipotle['item_name'].str.contains('Chicken Bow',case =False)]\n",
    "filtered_chicken_bowl = chicken_bowl[chicken_bowl['quantity']>=2]['item_name'].count()\n",
    "print('There were a total of ',filtered_chicken_bowl,' orders  that included two or more servings of the Chicken Bowl menu item.' )"
   ]
  }
 ],
 "metadata": {
  "kernelspec": {
   "display_name": "Python 3",
   "language": "python",
   "name": "python3"
  },
  "language_info": {
   "codemirror_mode": {
    "name": "ipython",
    "version": 3
   },
   "file_extension": ".py",
   "mimetype": "text/x-python",
   "name": "python",
   "nbconvert_exporter": "python",
   "pygments_lexer": "ipython3",
   "version": "3.11.4"
  },
  "orig_nbformat": 4
 },
 "nbformat": 4,
 "nbformat_minor": 2
}
